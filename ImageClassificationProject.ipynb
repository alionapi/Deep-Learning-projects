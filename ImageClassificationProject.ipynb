{
  "nbformat": 4,
  "nbformat_minor": 0,
  "metadata": {
    "colab": {
      "provenance": []
    },
    "kernelspec": {
      "name": "python3",
      "display_name": "Python 3"
    },
    "language_info": {
      "name": "python"
    }
  },
  "cells": [
    {
      "cell_type": "code",
      "execution_count": 2,
      "metadata": {
        "colab": {
          "base_uri": "https://localhost:8080/"
        },
        "id": "SrsMQfyIOGk6",
        "outputId": "7628585d-e79a-42f3-84f2-7663020b8a37"
      },
      "outputs": [
        {
          "output_type": "stream",
          "name": "stdout",
          "text": [
            "Epoch 1/5\n",
            "750/750 [==============================] - 45s 59ms/step - loss: 0.2098 - accuracy: 0.9350 - val_loss: 0.0614 - val_accuracy: 0.9813\n",
            "Epoch 2/5\n",
            "750/750 [==============================] - 45s 61ms/step - loss: 0.0541 - accuracy: 0.9826 - val_loss: 0.0439 - val_accuracy: 0.9877\n",
            "Epoch 3/5\n",
            "750/750 [==============================] - 41s 55ms/step - loss: 0.0373 - accuracy: 0.9884 - val_loss: 0.0386 - val_accuracy: 0.9894\n",
            "Epoch 4/5\n",
            "750/750 [==============================] - 42s 56ms/step - loss: 0.0290 - accuracy: 0.9911 - val_loss: 0.0460 - val_accuracy: 0.9868\n",
            "Epoch 5/5\n",
            "750/750 [==============================] - 42s 56ms/step - loss: 0.0229 - accuracy: 0.9928 - val_loss: 0.0380 - val_accuracy: 0.9887\n",
            "313/313 [==============================] - 3s 9ms/step - loss: 0.0280 - accuracy: 0.9904\n",
            "Test accuracy: 0.9904000163078308\n"
          ]
        }
      ],
      "source": [
        "import numpy as np\n",
        "import tensorflow as tf\n",
        "from tensorflow.keras import layers, models, datasets\n",
        "\n",
        "# Load and preprocess the dataset\n",
        "(train_images, train_labels), (test_images, test_labels) = datasets.mnist.load_data()\n",
        "train_images, test_images = train_images / 255.0, test_images / 255.0\n",
        "\n",
        "# Define the CNN model\n",
        "model = models.Sequential([\n",
        "    layers.Conv2D(32, (3, 3), activation='relu', input_shape=(28, 28, 1)),\n",
        "    layers.MaxPooling2D((2, 2)),\n",
        "    layers.Conv2D(64, (3, 3), activation='relu'),\n",
        "    layers.MaxPooling2D((2, 2)),\n",
        "    layers.Conv2D(64, (3, 3), activation='relu'),\n",
        "    layers.Flatten(),\n",
        "    layers.Dense(64, activation='relu'),\n",
        "    layers.Dense(10, activation='softmax')\n",
        "])\n",
        "\n",
        "# Compile the model\n",
        "model.compile(optimizer='adam',\n",
        "              loss='sparse_categorical_crossentropy',\n",
        "              metrics=['accuracy'])\n",
        "\n",
        "# Train the model\n",
        "model.fit(np.expand_dims(train_images, axis=-1), train_labels, epochs=5, batch_size=64, validation_split=0.2)\n",
        "\n",
        "# Evaluate the model\n",
        "test_loss, test_acc = model.evaluate(np.expand_dims(test_images, axis=-1), test_labels)\n",
        "print('Test accuracy:', test_acc)\n"
      ]
    }
  ]
}